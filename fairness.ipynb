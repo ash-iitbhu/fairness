{
 "cells": [
  {
   "cell_type": "markdown",
   "metadata": {},
   "source": [
    "## Install packages"
   ]
  },
  {
   "cell_type": "code",
   "execution_count": 1,
   "metadata": {},
   "outputs": [],
   "source": [
    "!pip install fairlearn\n",
    "!pip install scikit-learn"
   ]
  },
  {
   "cell_type": "markdown",
   "metadata": {},
   "source": [
    "## Import Packages"
   ]
  },
  {
   "cell_type": "code",
   "execution_count": 2,
   "metadata": {},
   "outputs": [],
   "source": [
    "import pandas as pd\n",
    "#sklearn packages\n",
    "from sklearn.datasets import fetch_openml\n",
    "from sklearn.metrics import accuracy_score, precision_score, recall_score\n",
    "from sklearn.tree import DecisionTreeClassifier\n",
    "\n",
    "#fairlearn metrics\n",
    "from fairlearn.metrics import (\n",
    "    MetricFrame,\n",
    "    false_positive_rate,\n",
    "    true_positive_rate,\n",
    "    selection_rate,\n",
    "    count,\n",
    ")\n",
    "\n",
    "#fairlearn mitigation algorithm\n",
    "from fairlearn.reductions import (ExponentiatedGradient, \n",
    "                                  DemographicParity, \n",
    "                                  TruePositiveRateParity, \n",
    "                                  EqualizedOdds, \n",
    "                                  ErrorRateParity)\n"
   ]
  },
  {
   "cell_type": "markdown",
   "metadata": {},
   "source": [
    "## Get Sample Dataset from sklearn"
   ]
  },
  {
   "cell_type": "code",
   "execution_count": 5,
   "metadata": {},
   "outputs": [],
   "source": [
    "data = fetch_openml(data_id=1590, as_frame=True)\n",
    "X = pd.get_dummies(data.data)\n",
    "y_true = (data.target == \">50K\") * 1"
   ]
  },
  {
   "cell_type": "markdown",
   "metadata": {},
   "source": [
    "## Dataset Description\n",
    "\n",
    "* We are using [UCI adult dataset](https://archive.ics.uci.edu/ml/datasets/Adult)\n",
    "* objective is to predict whether a person makes more **(label 1)** or **less (0)** than **$50,000 a year**.\n"
   ]
  },
  {
   "cell_type": "code",
   "execution_count": 6,
   "metadata": {},
   "outputs": [
    {
     "data": {
      "text/html": [
       "<div>\n",
       "<style scoped>\n",
       "    .dataframe tbody tr th:only-of-type {\n",
       "        vertical-align: middle;\n",
       "    }\n",
       "\n",
       "    .dataframe tbody tr th {\n",
       "        vertical-align: top;\n",
       "    }\n",
       "\n",
       "    .dataframe thead th {\n",
       "        text-align: right;\n",
       "    }\n",
       "</style>\n",
       "<table border=\"1\" class=\"dataframe\">\n",
       "  <thead>\n",
       "    <tr style=\"text-align: right;\">\n",
       "      <th></th>\n",
       "      <th>age</th>\n",
       "      <th>workclass</th>\n",
       "      <th>fnlwgt</th>\n",
       "      <th>education</th>\n",
       "      <th>education-num</th>\n",
       "      <th>marital-status</th>\n",
       "      <th>occupation</th>\n",
       "      <th>relationship</th>\n",
       "      <th>race</th>\n",
       "      <th>sex</th>\n",
       "      <th>capital-gain</th>\n",
       "      <th>capital-loss</th>\n",
       "      <th>hours-per-week</th>\n",
       "      <th>native-country</th>\n",
       "    </tr>\n",
       "  </thead>\n",
       "  <tbody>\n",
       "    <tr>\n",
       "      <th>0</th>\n",
       "      <td>25.0</td>\n",
       "      <td>Private</td>\n",
       "      <td>226802.0</td>\n",
       "      <td>11th</td>\n",
       "      <td>7.0</td>\n",
       "      <td>Never-married</td>\n",
       "      <td>Machine-op-inspct</td>\n",
       "      <td>Own-child</td>\n",
       "      <td>Black</td>\n",
       "      <td>Male</td>\n",
       "      <td>0.0</td>\n",
       "      <td>0.0</td>\n",
       "      <td>40.0</td>\n",
       "      <td>United-States</td>\n",
       "    </tr>\n",
       "    <tr>\n",
       "      <th>1</th>\n",
       "      <td>38.0</td>\n",
       "      <td>Private</td>\n",
       "      <td>89814.0</td>\n",
       "      <td>HS-grad</td>\n",
       "      <td>9.0</td>\n",
       "      <td>Married-civ-spouse</td>\n",
       "      <td>Farming-fishing</td>\n",
       "      <td>Husband</td>\n",
       "      <td>White</td>\n",
       "      <td>Male</td>\n",
       "      <td>0.0</td>\n",
       "      <td>0.0</td>\n",
       "      <td>50.0</td>\n",
       "      <td>United-States</td>\n",
       "    </tr>\n",
       "    <tr>\n",
       "      <th>2</th>\n",
       "      <td>28.0</td>\n",
       "      <td>Local-gov</td>\n",
       "      <td>336951.0</td>\n",
       "      <td>Assoc-acdm</td>\n",
       "      <td>12.0</td>\n",
       "      <td>Married-civ-spouse</td>\n",
       "      <td>Protective-serv</td>\n",
       "      <td>Husband</td>\n",
       "      <td>White</td>\n",
       "      <td>Male</td>\n",
       "      <td>0.0</td>\n",
       "      <td>0.0</td>\n",
       "      <td>40.0</td>\n",
       "      <td>United-States</td>\n",
       "    </tr>\n",
       "  </tbody>\n",
       "</table>\n",
       "</div>"
      ],
      "text/plain": [
       "    age  workclass    fnlwgt   education  education-num      marital-status  \\\n",
       "0  25.0    Private  226802.0        11th            7.0       Never-married   \n",
       "1  38.0    Private   89814.0     HS-grad            9.0  Married-civ-spouse   \n",
       "2  28.0  Local-gov  336951.0  Assoc-acdm           12.0  Married-civ-spouse   \n",
       "\n",
       "          occupation relationship   race   sex  capital-gain  capital-loss  \\\n",
       "0  Machine-op-inspct    Own-child  Black  Male           0.0           0.0   \n",
       "1    Farming-fishing      Husband  White  Male           0.0           0.0   \n",
       "2    Protective-serv      Husband  White  Male           0.0           0.0   \n",
       "\n",
       "   hours-per-week native-country  \n",
       "0            40.0  United-States  \n",
       "1            50.0  United-States  \n",
       "2            40.0  United-States  "
      ]
     },
     "execution_count": 6,
     "metadata": {},
     "output_type": "execute_result"
    }
   ],
   "source": [
    "data.data.head(3)"
   ]
  },
  {
   "cell_type": "markdown",
   "metadata": {},
   "source": [
    "## Defining Sensitive Feature\n",
    "Which groups are most likely to be disproportionately negatively affected? \n",
    "We see that male and female groups can be differnetly affected hence we define **sex** as sensitive feature."
   ]
  },
  {
   "cell_type": "code",
   "execution_count": 8,
   "metadata": {},
   "outputs": [],
   "source": [
    "sex = data.data[\"sex\"]"
   ]
  },
  {
   "cell_type": "markdown",
   "metadata": {},
   "source": [
    "## Training a Model\n",
    "We train a decision tree classifer to predict the target variable."
   ]
  },
  {
   "cell_type": "code",
   "execution_count": 11,
   "metadata": {},
   "outputs": [],
   "source": [
    "classifier = DecisionTreeClassifier(min_samples_leaf=10, max_depth=4)\n",
    "classifier.fit(X, y_true)\n",
    "y_pred = classifier.predict(X)"
   ]
  },
  {
   "cell_type": "markdown",
   "metadata": {},
   "source": [
    "## Fareness Assement with Metric Frame"
   ]
  },
  {
   "cell_type": "markdown",
   "metadata": {},
   "source": [
    "* Fairlearn provides fairness-related metrics that can be compared between groups and for the overall population.\n",
    "* We can use existing metrics from sklearn"
   ]
  },
  {
   "cell_type": "code",
   "execution_count": 12,
   "metadata": {},
   "outputs": [],
   "source": [
    "#defining a metric frame object\n",
    "# In its simplest form MetricFrame takes four arguments:\n",
    "#    metric_function with signature metric_function(y_true, y_pred)\n",
    "#    y_true: array of labels\n",
    "#    y_pred: array of predictions\n",
    "#    sensitive_features: array of sensitive feature values\n",
    "\n",
    "metrics = {\n",
    "    \"false positive rate\": false_positive_rate,\n",
    "    \"true positive rate\": true_positive_rate,\n",
    "    \"selection rate\": selection_rate,\n",
    "    \"accuracy\": accuracy_score,\n",
    "}\n",
    "\n",
    "metric_frame = MetricFrame(\n",
    "    metrics=metrics, y_true=y_true, y_pred=y_pred, sensitive_features=sex\n",
    ")"
   ]
  },
  {
   "cell_type": "code",
   "execution_count": 13,
   "metadata": {},
   "outputs": [
    {
     "data": {
      "text/plain": [
       "false positive rate    0.052725\n",
       "true positive rate     0.517156\n",
       "selection rate         0.163855\n",
       "accuracy               0.844355\n",
       "dtype: object"
      ]
     },
     "execution_count": 13,
     "metadata": {},
     "output_type": "execute_result"
    }
   ],
   "source": [
    "## overall performace metrics of model\n",
    "metric_frame.overall"
   ]
  },
  {
   "cell_type": "code",
   "execution_count": 14,
   "metadata": {},
   "outputs": [
    {
     "data": {
      "text/html": [
       "<div>\n",
       "<style scoped>\n",
       "    .dataframe tbody tr th:only-of-type {\n",
       "        vertical-align: middle;\n",
       "    }\n",
       "\n",
       "    .dataframe tbody tr th {\n",
       "        vertical-align: top;\n",
       "    }\n",
       "\n",
       "    .dataframe thead th {\n",
       "        text-align: right;\n",
       "    }\n",
       "</style>\n",
       "<table border=\"1\" class=\"dataframe\">\n",
       "  <thead>\n",
       "    <tr style=\"text-align: right;\">\n",
       "      <th></th>\n",
       "      <th>false positive rate</th>\n",
       "      <th>true positive rate</th>\n",
       "      <th>selection rate</th>\n",
       "      <th>accuracy</th>\n",
       "    </tr>\n",
       "    <tr>\n",
       "      <th>sex</th>\n",
       "      <th></th>\n",
       "      <th></th>\n",
       "      <th></th>\n",
       "      <th></th>\n",
       "    </tr>\n",
       "  </thead>\n",
       "  <tbody>\n",
       "    <tr>\n",
       "      <th>Female</th>\n",
       "      <td>0.016363</td>\n",
       "      <td>0.448276</td>\n",
       "      <td>0.06355</td>\n",
       "      <td>0.925148</td>\n",
       "    </tr>\n",
       "    <tr>\n",
       "      <th>Male</th>\n",
       "      <td>0.075796</td>\n",
       "      <td>0.529441</td>\n",
       "      <td>0.213599</td>\n",
       "      <td>0.804288</td>\n",
       "    </tr>\n",
       "  </tbody>\n",
       "</table>\n",
       "</div>"
      ],
      "text/plain": [
       "       false positive rate true positive rate selection rate  accuracy\n",
       "sex                                                                   \n",
       "Female            0.016363           0.448276        0.06355  0.925148\n",
       "Male              0.075796           0.529441       0.213599  0.804288"
      ]
     },
     "execution_count": 14,
     "metadata": {},
     "output_type": "execute_result"
    }
   ],
   "source": [
    "# The disaggregated metrics are stored in a pandas Series metric_frame.by_group:\n",
    "metric_frame.by_group"
   ]
  },
  {
   "cell_type": "code",
   "execution_count": 15,
   "metadata": {},
   "outputs": [
    {
     "data": {
      "text/plain": [
       "array([[<AxesSubplot:title={'center':'false positive rate'}, xlabel='sex'>,\n",
       "        <AxesSubplot:title={'center':'true positive rate'}, xlabel='sex'>,\n",
       "        <AxesSubplot:title={'center':'selection rate'}, xlabel='sex'>],\n",
       "       [<AxesSubplot:title={'center':'accuracy'}, xlabel='sex'>,\n",
       "        <AxesSubplot:xlabel='sex'>, <AxesSubplot:xlabel='sex'>],\n",
       "       [<AxesSubplot:xlabel='sex'>, <AxesSubplot:xlabel='sex'>,\n",
       "        <AxesSubplot:xlabel='sex'>]], dtype=object)"
      ]
     },
     "execution_count": 15,
     "metadata": {},
     "output_type": "execute_result"
    },
    {
     "data": {
      "image/png": "[encoded data removed]",
      "text/plain": [
       "<Figure size 864x576 with 9 Axes>"
      ]
     },
     "metadata": {
      "needs_background": "light"
     },
     "output_type": "display_data"
    }
   ],
   "source": [
    "#Fairlearn also allows us to quickly plot these metrics from the fairlearn.metrics.MetricFrame\n",
    "metric_frame.by_group.plot.bar(\n",
    "    subplots=True,\n",
    "    layout=[3, 3],\n",
    "    legend=False,\n",
    "    figsize=[12, 8],\n",
    "    title=\"Show all metrics\",\n",
    ")"
   ]
  },
  {
   "cell_type": "markdown",
   "metadata": {},
   "source": [
    "### From the above it is clearly visible how our model is Biased\n",
    "* We see that Male have a higher selection rate as compared to females.\n",
    "* Also We see that model predictions are better for female population as compared to male population as is makes more mistake while predicting for male population.\n",
    "* Also we see that false positive rate is much higher for Male population as compared to female."
   ]
  },
  {
   "cell_type": "markdown",
   "metadata": {},
   "source": [
    "# Mitigating Unfairness"
   ]
  },
  {
   "cell_type": "markdown",
   "metadata": {},
   "source": [
    "We apply exponentialgradient as a wrapper on our Decision Tree classifier.\n",
    "\n",
    "Various fairness constraint has been applied and we look at performance measure after applying each constraints."
   ]
  },
  {
   "cell_type": "markdown",
   "metadata": {},
   "source": [
    "* **Demographic Parity**"
   ]
  },
  {
   "cell_type": "code",
   "execution_count": 30,
   "metadata": {},
   "outputs": [
    {
     "name": "stdout",
     "output_type": "stream",
     "text": [
      "false positive rate     0.06882\n",
      "true positive rate     0.473175\n",
      "selection rate         0.165575\n",
      "accuracy               0.821588\n",
      "dtype: object\n",
      "       false positive rate true positive rate selection rate  accuracy\n",
      "sex                                                                   \n",
      "Female            0.086598           0.715093       0.155262  0.891737\n",
      "Male               0.05754           0.430026       0.170689  0.786799\n"
     ]
    }
   ],
   "source": [
    "#### cost optimization based on demographic parity constraint\n",
    "### demographic parity constraints - overall selection rate(rate of predicting 1) = selection rate withing each group(defined by sensitive feature)\n",
    "constraint = DemographicParity(difference_bound=0.01)\n",
    "classifier = DecisionTreeClassifier(min_samples_leaf=10, max_depth=4)\n",
    "mitigator = ExponentiatedGradient(classifier, constraint)\n",
    "mitigator.fit(X, y_true, sensitive_features=sex)\n",
    "y_pred_mitigated = mitigator.predict(X)\n",
    "metric_frame_mitigated = MetricFrame(\n",
    "    metrics=metrics, y_true=y_true, y_pred=y_pred_mitigated, sensitive_features=sex)\n",
    "\n",
    "print(metric_frame_mitigated.overall)\n",
    "print(metric_frame_mitigated.by_group)"
   ]
  },
  {
   "cell_type": "code",
   "execution_count": 31,
   "metadata": {},
   "outputs": [
    {
     "data": {
      "text/plain": [
       "array([[<AxesSubplot:title={'center':'false positive rate'}, xlabel='sex'>,\n",
       "        <AxesSubplot:title={'center':'true positive rate'}, xlabel='sex'>,\n",
       "        <AxesSubplot:title={'center':'selection rate'}, xlabel='sex'>],\n",
       "       [<AxesSubplot:title={'center':'accuracy'}, xlabel='sex'>,\n",
       "        <AxesSubplot:xlabel='sex'>, <AxesSubplot:xlabel='sex'>],\n",
       "       [<AxesSubplot:xlabel='sex'>, <AxesSubplot:xlabel='sex'>,\n",
       "        <AxesSubplot:xlabel='sex'>]], dtype=object)"
      ]
     },
     "execution_count": 31,
     "metadata": {},
     "output_type": "execute_result"
    },
    {
     "data": {
      "image/png": "[encoded data removed]",
      "text/plain": [
       "<Figure size 864x576 with 9 Axes>"
      ]
     },
     "metadata": {
      "needs_background": "light"
     },
     "output_type": "display_data"
    }
   ],
   "source": [
    "metric_frame_mitigated.by_group.plot.bar(\n",
    "    subplots=True,\n",
    "    layout=[3, 3],\n",
    "    legend=False,\n",
    "    figsize=[12, 8],\n",
    "    title=\"Show all metrics\",\n",
    ")"
   ]
  },
  {
   "cell_type": "markdown",
   "metadata": {},
   "source": [
    "* **True Positive rate parity**"
   ]
  },
  {
   "cell_type": "code",
   "execution_count": 32,
   "metadata": {},
   "outputs": [
    {
     "name": "stdout",
     "output_type": "stream",
     "text": [
      "false positive rate    0.062603\n",
      "true positive rate     0.533927\n",
      "selection rate         0.175382\n",
      "accuracy               0.840854\n",
      "dtype: object\n",
      "       false positive rate true positive rate selection rate  accuracy\n",
      "sex                                                                   \n",
      "Female            0.035915           0.521198       0.088933  0.915699\n",
      "Male              0.079535           0.536197       0.218254  0.803737\n"
     ]
    }
   ],
   "source": [
    "#### cost optimization based on true positive rate parity constraint\n",
    "### true positive rate parity constraints - TPR overall = TPR withing each group(defined by sensitive feature)\n",
    "constraint = TruePositiveRateParity(difference_bound=0.01)\n",
    "classifier = DecisionTreeClassifier(min_samples_leaf=10, max_depth=4)\n",
    "mitigator = ExponentiatedGradient(classifier, constraint)\n",
    "mitigator.fit(X, y_true, sensitive_features=sex)\n",
    "y_pred_mitigated = mitigator.predict(X)\n",
    "metric_frame_mitigated = MetricFrame(\n",
    "    metrics=metrics, y_true=y_true, y_pred=y_pred_mitigated, sensitive_features=sex)\n",
    "\n",
    "print(metric_frame_mitigated.overall)\n",
    "print(metric_frame_mitigated.by_group)"
   ]
  },
  {
   "cell_type": "markdown",
   "metadata": {},
   "source": [
    "* **equalized odds parity**"
   ]
  },
  {
   "cell_type": "code",
   "execution_count": 17,
   "metadata": {},
   "outputs": [
    {
     "name": "stdout",
     "output_type": "stream",
     "text": [
      "false positive rate    0.074203\n",
      "true positive rate     0.562334\n",
      "selection rate         0.191004\n",
      "accuracy               0.838827\n",
      "dtype: object\n",
      "       false positive rate true positive rate selection rate  accuracy\n",
      "sex                                                                   \n",
      "Female            0.063926           0.567552       0.118948  0.895813\n",
      "Male              0.080723           0.561404       0.226738  0.810567\n"
     ]
    }
   ],
   "source": [
    "#### cost optimization based on equalized odds parity constraint\n",
    "### equalized odds parity constraints - takes into account both TPR and FPR\n",
    "constraint = EqualizedOdds(difference_bound=0.01)\n",
    "classifier = DecisionTreeClassifier(min_samples_leaf=10, max_depth=4)\n",
    "mitigator = ExponentiatedGradient(classifier, constraint)\n",
    "mitigator.fit(X, y_true, sensitive_features=sex)\n",
    "y_pred_mitigated = mitigator.predict(X)\n",
    "metric_frame_mitigated = MetricFrame(\n",
    "    metrics=metrics, y_true=y_true, y_pred=y_pred_mitigated, sensitive_features=sex)\n",
    "\n",
    "print(metric_frame_mitigated.overall)\n",
    "print(metric_frame_mitigated.by_group)"
   ]
  },
  {
   "cell_type": "code",
   "execution_count": 18,
   "metadata": {},
   "outputs": [
    {
     "data": {
      "text/plain": [
       "array([[<AxesSubplot:title={'center':'false positive rate'}, xlabel='sex'>,\n",
       "        <AxesSubplot:title={'center':'true positive rate'}, xlabel='sex'>,\n",
       "        <AxesSubplot:title={'center':'selection rate'}, xlabel='sex'>],\n",
       "       [<AxesSubplot:title={'center':'accuracy'}, xlabel='sex'>,\n",
       "        <AxesSubplot:xlabel='sex'>, <AxesSubplot:xlabel='sex'>],\n",
       "       [<AxesSubplot:xlabel='sex'>, <AxesSubplot:xlabel='sex'>,\n",
       "        <AxesSubplot:xlabel='sex'>]], dtype=object)"
      ]
     },
     "execution_count": 18,
     "metadata": {},
     "output_type": "execute_result"
    },
    {
     "data": {
      "image/png": "[encoded data removed]",
      "text/plain": [
       "<Figure size 864x576 with 9 Axes>"
      ]
     },
     "metadata": {
      "needs_background": "light"
     },
     "output_type": "display_data"
    }
   ],
   "source": [
    "metric_frame_mitigated.by_group.plot.bar(\n",
    "    subplots=True,\n",
    "    layout=[3, 3],\n",
    "    legend=False,\n",
    "    figsize=[12, 8],\n",
    "    title=\"Show all metrics\",\n",
    ")"
   ]
  },
  {
   "cell_type": "markdown",
   "metadata": {},
   "source": [
    "* **Error rate parity**"
   ]
  },
  {
   "cell_type": "code",
   "execution_count": 19,
   "metadata": {},
   "outputs": [
    {
     "name": "stdout",
     "output_type": "stream",
     "text": [
      "false positive rate    0.078886\n",
      "true positive rate     0.455806\n",
      "selection rate         0.169076\n",
      "accuracy               0.809774\n",
      "dtype: object\n",
      "       false positive rate true positive rate selection rate  accuracy\n",
      "sex                                                                   \n",
      "Female             0.08535           0.050311       0.081522   0.82022\n",
      "Male              0.074784           0.528131       0.212496  0.804594\n"
     ]
    }
   ],
   "source": [
    "#### cost optimization based on error rate parity constraint\n",
    "### error rate parity constraints - error rate/accuracy overall = error rate/accuracy withing each group(defined by sensitive feature)\n",
    "constraint = ErrorRateParity(difference_bound=0.01)\n",
    "classifier = DecisionTreeClassifier(min_samples_leaf=10, max_depth=4)\n",
    "mitigator = ExponentiatedGradient(classifier, constraint)\n",
    "mitigator.fit(X, y_true, sensitive_features=sex)\n",
    "y_pred_mitigated = mitigator.predict(X)\n",
    "metric_frame_mitigated = MetricFrame(\n",
    "    metrics=metrics, y_true=y_true, y_pred=y_pred_mitigated, sensitive_features=sex)\n",
    "\n",
    "print(metric_frame_mitigated.overall)\n",
    "print(metric_frame_mitigated.by_group)"
   ]
  },
  {
   "cell_type": "code",
   "execution_count": 20,
   "metadata": {},
   "outputs": [
    {
     "data": {
      "text/plain": [
       "array([[<AxesSubplot:title={'center':'false positive rate'}, xlabel='sex'>,\n",
       "        <AxesSubplot:title={'center':'true positive rate'}, xlabel='sex'>,\n",
       "        <AxesSubplot:title={'center':'selection rate'}, xlabel='sex'>],\n",
       "       [<AxesSubplot:title={'center':'accuracy'}, xlabel='sex'>,\n",
       "        <AxesSubplot:xlabel='sex'>, <AxesSubplot:xlabel='sex'>],\n",
       "       [<AxesSubplot:xlabel='sex'>, <AxesSubplot:xlabel='sex'>,\n",
       "        <AxesSubplot:xlabel='sex'>]], dtype=object)"
      ]
     },
     "execution_count": 20,
     "metadata": {},
     "output_type": "execute_result"
    },
    {
     "data": {
      "image/png": "[encoded data removed]",
      "text/plain": [
       "<Figure size 864x576 with 9 Axes>"
      ]
     },
     "metadata": {
      "needs_background": "light"
     },
     "output_type": "display_data"
    }
   ],
   "source": [
    "metric_frame_mitigated.by_group.plot.bar(\n",
    "    subplots=True,\n",
    "    layout=[3, 3],\n",
    "    legend=False,\n",
    "    figsize=[12, 8],\n",
    "    title=\"Show all metrics\",\n",
    ")"
   ]
  },
  {
   "cell_type": "code",
   "execution_count": null,
   "metadata": {},
   "outputs": [],
   "source": []
  }
 ],
 "metadata": {
  "kernelspec": {
   "display_name": "Python 3",
   "language": "python",
   "name": "python3"
  },
  "language_info": {
   "codemirror_mode": {
    "name": "ipython",
    "version": 3
   },
   "file_extension": ".py",
   "mimetype": "text/x-python",
   "name": "python",
   "nbconvert_exporter": "python",
   "pygments_lexer": "ipython3",
   "version": "3.8.8"
  }
 },
 "nbformat": 4,
 "nbformat_minor": 4
}
